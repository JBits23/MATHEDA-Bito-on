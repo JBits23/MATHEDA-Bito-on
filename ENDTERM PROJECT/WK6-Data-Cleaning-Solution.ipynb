{
 "cells": [
  {
   "cell_type": "markdown",
   "metadata": {},
   "source": [
    "# MLB Pitching Data (1876-2022) <hr>"
   ]
  },
  {
   "cell_type": "markdown",
   "metadata": {},
   "source": [
    "Name: **Joshua M. Bito-on** \n",
    "<br>\n",
    "Course: **CPE2A**"
   ]
  },
  {
   "cell_type": "markdown",
   "metadata": {},
   "source": [
    "Import **pandas**,**numpy** and **matplotlib** library"
   ]
  },
  {
   "cell_type": "code",
   "execution_count": 170,
   "metadata": {},
   "outputs": [],
   "source": [
    "import pandas as pd\n",
    "import numpy as np\n",
    "import matplotlib.pyplot as plt"
   ]
  },
  {
   "cell_type": "markdown",
   "metadata": {},
   "source": [
    "# Overview of the Dataset"
   ]
  },
  {
   "cell_type": "markdown",
   "metadata": {},
   "source": [
    "Load the \"**baseball_pitcher.csv**\"<br>"
   ]
  },
  {
   "cell_type": "code",
   "execution_count": 171,
   "metadata": {},
   "outputs": [
    {
     "name": "stdout",
     "output_type": "stream",
     "text": [
      "<class 'pandas.core.frame.DataFrame'>\n",
      "RangeIndex: 2575 entries, 0 to 2574\n",
      "Data columns (total 21 columns):\n",
      " #   Column              Non-Null Count  Dtype  \n",
      "---  ------              --------------  -----  \n",
      " 0   Player name         2575 non-null   object \n",
      " 1   Position            2575 non-null   object \n",
      " 2   Win                 2575 non-null   int64  \n",
      " 3   Loss                2575 non-null   int64  \n",
      " 4   Earned run Average  2575 non-null   float64\n",
      " 5   Games played        2575 non-null   int64  \n",
      " 6   Games Started       2575 non-null   int64  \n",
      " 7   Complete Game       2575 non-null   int64  \n",
      " 8   Shutout             2575 non-null   int64  \n",
      " 9   Save                2575 non-null   int64  \n",
      " 10  Save Opportunity    2575 non-null   object \n",
      " 11  Innings pitched     2575 non-null   float64\n",
      " 12  hit                 2575 non-null   int64  \n",
      " 13  run                 2575 non-null   int64  \n",
      " 14  earned run          2575 non-null   int64  \n",
      " 15  home run            2575 non-null   int64  \n",
      " 16   Hit Batsmen        2575 non-null   int64  \n",
      " 17  base on balls       2565 non-null   float64\n",
      " 18  Strikeouts          2575 non-null   int64  \n",
      " 19  WHIP                2575 non-null   float64\n",
      " 20  AVG                 2575 non-null   object \n",
      "dtypes: float64(4), int64(13), object(4)\n",
      "memory usage: 422.6+ KB\n"
     ]
    }
   ],
   "source": [
    "df = pd.read_csv(r\"C:\\Users\\romme\\Desktop\\MATHEDA Bito-on\\ENDTERM PROJECT\\raw\\baseball_pitcher.csv\",\n",
    "                 delimiter=\",\")\n",
    "df.info()"
   ]
  },
  {
   "cell_type": "markdown",
   "metadata": {},
   "source": [
    "Display an **overview** of the pitching dataset"
   ]
  },
  {
   "cell_type": "code",
   "execution_count": 172,
   "metadata": {},
   "outputs": [
    {
     "data": {
      "text/html": [
       "<div>\n",
       "<style scoped>\n",
       "    .dataframe tbody tr th:only-of-type {\n",
       "        vertical-align: middle;\n",
       "    }\n",
       "\n",
       "    .dataframe tbody tr th {\n",
       "        vertical-align: top;\n",
       "    }\n",
       "\n",
       "    .dataframe thead th {\n",
       "        text-align: right;\n",
       "    }\n",
       "</style>\n",
       "<table border=\"1\" class=\"dataframe\">\n",
       "  <thead>\n",
       "    <tr style=\"text-align: right;\">\n",
       "      <th></th>\n",
       "      <th>Player name</th>\n",
       "      <th>Position</th>\n",
       "      <th>Win</th>\n",
       "      <th>Loss</th>\n",
       "      <th>Earned run Average</th>\n",
       "      <th>Games played</th>\n",
       "      <th>Games Started</th>\n",
       "      <th>Complete Game</th>\n",
       "      <th>Shutout</th>\n",
       "      <th>Save</th>\n",
       "      <th>...</th>\n",
       "      <th>Innings pitched</th>\n",
       "      <th>hit</th>\n",
       "      <th>run</th>\n",
       "      <th>earned run</th>\n",
       "      <th>home run</th>\n",
       "      <th>Hit Batsmen</th>\n",
       "      <th>base on balls</th>\n",
       "      <th>Strikeouts</th>\n",
       "      <th>WHIP</th>\n",
       "      <th>AVG</th>\n",
       "    </tr>\n",
       "  </thead>\n",
       "  <tbody>\n",
       "    <tr>\n",
       "      <th>0</th>\n",
       "      <td>N Ryan</td>\n",
       "      <td>P</td>\n",
       "      <td>324</td>\n",
       "      <td>292</td>\n",
       "      <td>3.19</td>\n",
       "      <td>807</td>\n",
       "      <td>773</td>\n",
       "      <td>222</td>\n",
       "      <td>61</td>\n",
       "      <td>3</td>\n",
       "      <td>...</td>\n",
       "      <td>5386.0</td>\n",
       "      <td>3923</td>\n",
       "      <td>2178</td>\n",
       "      <td>1911</td>\n",
       "      <td>321</td>\n",
       "      <td>158</td>\n",
       "      <td>2795.0</td>\n",
       "      <td>5714</td>\n",
       "      <td>1.25</td>\n",
       "      <td>0.204</td>\n",
       "    </tr>\n",
       "    <tr>\n",
       "      <th>1</th>\n",
       "      <td>R Johnson</td>\n",
       "      <td>P</td>\n",
       "      <td>303</td>\n",
       "      <td>166</td>\n",
       "      <td>3.29</td>\n",
       "      <td>618</td>\n",
       "      <td>603</td>\n",
       "      <td>100</td>\n",
       "      <td>37</td>\n",
       "      <td>2</td>\n",
       "      <td>...</td>\n",
       "      <td>4135.1</td>\n",
       "      <td>3346</td>\n",
       "      <td>1703</td>\n",
       "      <td>1513</td>\n",
       "      <td>411</td>\n",
       "      <td>190</td>\n",
       "      <td>1497.0</td>\n",
       "      <td>4875</td>\n",
       "      <td>1.17</td>\n",
       "      <td>0.221</td>\n",
       "    </tr>\n",
       "    <tr>\n",
       "      <th>2</th>\n",
       "      <td>R Clemens</td>\n",
       "      <td>P</td>\n",
       "      <td>354</td>\n",
       "      <td>184</td>\n",
       "      <td>3.12</td>\n",
       "      <td>709</td>\n",
       "      <td>707</td>\n",
       "      <td>118</td>\n",
       "      <td>46</td>\n",
       "      <td>0</td>\n",
       "      <td>...</td>\n",
       "      <td>4916.2</td>\n",
       "      <td>4185</td>\n",
       "      <td>1885</td>\n",
       "      <td>1707</td>\n",
       "      <td>363</td>\n",
       "      <td>159</td>\n",
       "      <td>1580.0</td>\n",
       "      <td>4672</td>\n",
       "      <td>1.17</td>\n",
       "      <td>0.229</td>\n",
       "    </tr>\n",
       "    <tr>\n",
       "      <th>3</th>\n",
       "      <td>S Carlton</td>\n",
       "      <td>P</td>\n",
       "      <td>329</td>\n",
       "      <td>244</td>\n",
       "      <td>3.22</td>\n",
       "      <td>741</td>\n",
       "      <td>709</td>\n",
       "      <td>254</td>\n",
       "      <td>55</td>\n",
       "      <td>2</td>\n",
       "      <td>...</td>\n",
       "      <td>5217.1</td>\n",
       "      <td>4672</td>\n",
       "      <td>2130</td>\n",
       "      <td>1864</td>\n",
       "      <td>414</td>\n",
       "      <td>53</td>\n",
       "      <td>1833.0</td>\n",
       "      <td>4136</td>\n",
       "      <td>1.25</td>\n",
       "      <td>0.24</td>\n",
       "    </tr>\n",
       "    <tr>\n",
       "      <th>4</th>\n",
       "      <td>B Blyleven</td>\n",
       "      <td>P</td>\n",
       "      <td>287</td>\n",
       "      <td>250</td>\n",
       "      <td>3.31</td>\n",
       "      <td>692</td>\n",
       "      <td>685</td>\n",
       "      <td>242</td>\n",
       "      <td>60</td>\n",
       "      <td>0</td>\n",
       "      <td>...</td>\n",
       "      <td>4970.0</td>\n",
       "      <td>4632</td>\n",
       "      <td>2029</td>\n",
       "      <td>1830</td>\n",
       "      <td>430</td>\n",
       "      <td>155</td>\n",
       "      <td>1322.0</td>\n",
       "      <td>3701</td>\n",
       "      <td>1.20</td>\n",
       "      <td>0.248</td>\n",
       "    </tr>\n",
       "  </tbody>\n",
       "</table>\n",
       "<p>5 rows × 21 columns</p>\n",
       "</div>"
      ],
      "text/plain": [
       "  Player name Position  Win  Loss  Earned run Average  Games played  \\\n",
       "0      N Ryan        P  324   292                3.19           807   \n",
       "1   R Johnson        P  303   166                3.29           618   \n",
       "2   R Clemens        P  354   184                3.12           709   \n",
       "3   S Carlton        P  329   244                3.22           741   \n",
       "4  B Blyleven        P  287   250                3.31           692   \n",
       "\n",
       "   Games Started  Complete Game  Shutout  Save  ... Innings pitched   hit  \\\n",
       "0            773            222       61     3  ...          5386.0  3923   \n",
       "1            603            100       37     2  ...          4135.1  3346   \n",
       "2            707            118       46     0  ...          4916.2  4185   \n",
       "3            709            254       55     2  ...          5217.1  4672   \n",
       "4            685            242       60     0  ...          4970.0  4632   \n",
       "\n",
       "    run  earned run  home run   Hit Batsmen  base on balls  Strikeouts  WHIP  \\\n",
       "0  2178        1911       321           158         2795.0        5714  1.25   \n",
       "1  1703        1513       411           190         1497.0        4875  1.17   \n",
       "2  1885        1707       363           159         1580.0        4672  1.17   \n",
       "3  2130        1864       414            53         1833.0        4136  1.25   \n",
       "4  2029        1830       430           155         1322.0        3701  1.20   \n",
       "\n",
       "     AVG  \n",
       "0  0.204  \n",
       "1  0.221  \n",
       "2  0.229  \n",
       "3   0.24  \n",
       "4  0.248  \n",
       "\n",
       "[5 rows x 21 columns]"
      ]
     },
     "execution_count": 172,
     "metadata": {},
     "output_type": "execute_result"
    }
   ],
   "source": [
    "df.head()"
   ]
  },
  {
   "cell_type": "markdown",
   "metadata": {},
   "source": [
    "**Dropp** string Values in all columns except the **first and second** to **NAN** values"
   ]
  },
  {
   "cell_type": "code",
   "execution_count": 173,
   "metadata": {},
   "outputs": [],
   "source": [
    "df.iloc[:, 2:] = df.iloc[:, 2:].apply(pd.to_numeric, errors='coerce')"
   ]
  },
  {
   "cell_type": "markdown",
   "metadata": {},
   "source": [
    "**Dropping** *run* column since it doesn't correlate to the pitcher's performance. (Runs made by defensive errors and not by the pitcher)"
   ]
  },
  {
   "cell_type": "code",
   "execution_count": 174,
   "metadata": {},
   "outputs": [
    {
     "data": {
      "text/html": [
       "<div>\n",
       "<style scoped>\n",
       "    .dataframe tbody tr th:only-of-type {\n",
       "        vertical-align: middle;\n",
       "    }\n",
       "\n",
       "    .dataframe tbody tr th {\n",
       "        vertical-align: top;\n",
       "    }\n",
       "\n",
       "    .dataframe thead th {\n",
       "        text-align: right;\n",
       "    }\n",
       "</style>\n",
       "<table border=\"1\" class=\"dataframe\">\n",
       "  <thead>\n",
       "    <tr style=\"text-align: right;\">\n",
       "      <th></th>\n",
       "      <th>Player name</th>\n",
       "      <th>Position</th>\n",
       "      <th>Win</th>\n",
       "      <th>Loss</th>\n",
       "      <th>Earned run Average</th>\n",
       "      <th>Games played</th>\n",
       "      <th>Games Started</th>\n",
       "      <th>Complete Game</th>\n",
       "      <th>Shutout</th>\n",
       "      <th>Save</th>\n",
       "      <th>Save Opportunity</th>\n",
       "      <th>Innings pitched</th>\n",
       "      <th>hit</th>\n",
       "      <th>earned run</th>\n",
       "      <th>home run</th>\n",
       "      <th>Hit Batsmen</th>\n",
       "      <th>base on balls</th>\n",
       "      <th>Strikeouts</th>\n",
       "      <th>WHIP</th>\n",
       "      <th>AVG</th>\n",
       "    </tr>\n",
       "  </thead>\n",
       "  <tbody>\n",
       "    <tr>\n",
       "      <th>0</th>\n",
       "      <td>N Ryan</td>\n",
       "      <td>P</td>\n",
       "      <td>324</td>\n",
       "      <td>292</td>\n",
       "      <td>3.19</td>\n",
       "      <td>807</td>\n",
       "      <td>773</td>\n",
       "      <td>222</td>\n",
       "      <td>61</td>\n",
       "      <td>3</td>\n",
       "      <td>4.0</td>\n",
       "      <td>5386.0</td>\n",
       "      <td>3923</td>\n",
       "      <td>1911</td>\n",
       "      <td>321</td>\n",
       "      <td>158</td>\n",
       "      <td>2795.0</td>\n",
       "      <td>5714</td>\n",
       "      <td>1.25</td>\n",
       "      <td>0.204</td>\n",
       "    </tr>\n",
       "    <tr>\n",
       "      <th>1</th>\n",
       "      <td>R Johnson</td>\n",
       "      <td>P</td>\n",
       "      <td>303</td>\n",
       "      <td>166</td>\n",
       "      <td>3.29</td>\n",
       "      <td>618</td>\n",
       "      <td>603</td>\n",
       "      <td>100</td>\n",
       "      <td>37</td>\n",
       "      <td>2</td>\n",
       "      <td>3.0</td>\n",
       "      <td>4135.1</td>\n",
       "      <td>3346</td>\n",
       "      <td>1513</td>\n",
       "      <td>411</td>\n",
       "      <td>190</td>\n",
       "      <td>1497.0</td>\n",
       "      <td>4875</td>\n",
       "      <td>1.17</td>\n",
       "      <td>0.221</td>\n",
       "    </tr>\n",
       "    <tr>\n",
       "      <th>2</th>\n",
       "      <td>R Clemens</td>\n",
       "      <td>P</td>\n",
       "      <td>354</td>\n",
       "      <td>184</td>\n",
       "      <td>3.12</td>\n",
       "      <td>709</td>\n",
       "      <td>707</td>\n",
       "      <td>118</td>\n",
       "      <td>46</td>\n",
       "      <td>0</td>\n",
       "      <td>0.0</td>\n",
       "      <td>4916.2</td>\n",
       "      <td>4185</td>\n",
       "      <td>1707</td>\n",
       "      <td>363</td>\n",
       "      <td>159</td>\n",
       "      <td>1580.0</td>\n",
       "      <td>4672</td>\n",
       "      <td>1.17</td>\n",
       "      <td>0.229</td>\n",
       "    </tr>\n",
       "    <tr>\n",
       "      <th>3</th>\n",
       "      <td>S Carlton</td>\n",
       "      <td>P</td>\n",
       "      <td>329</td>\n",
       "      <td>244</td>\n",
       "      <td>3.22</td>\n",
       "      <td>741</td>\n",
       "      <td>709</td>\n",
       "      <td>254</td>\n",
       "      <td>55</td>\n",
       "      <td>2</td>\n",
       "      <td>2.0</td>\n",
       "      <td>5217.1</td>\n",
       "      <td>4672</td>\n",
       "      <td>1864</td>\n",
       "      <td>414</td>\n",
       "      <td>53</td>\n",
       "      <td>1833.0</td>\n",
       "      <td>4136</td>\n",
       "      <td>1.25</td>\n",
       "      <td>0.24</td>\n",
       "    </tr>\n",
       "    <tr>\n",
       "      <th>4</th>\n",
       "      <td>B Blyleven</td>\n",
       "      <td>P</td>\n",
       "      <td>287</td>\n",
       "      <td>250</td>\n",
       "      <td>3.31</td>\n",
       "      <td>692</td>\n",
       "      <td>685</td>\n",
       "      <td>242</td>\n",
       "      <td>60</td>\n",
       "      <td>0</td>\n",
       "      <td>0.0</td>\n",
       "      <td>4970.0</td>\n",
       "      <td>4632</td>\n",
       "      <td>1830</td>\n",
       "      <td>430</td>\n",
       "      <td>155</td>\n",
       "      <td>1322.0</td>\n",
       "      <td>3701</td>\n",
       "      <td>1.20</td>\n",
       "      <td>0.248</td>\n",
       "    </tr>\n",
       "  </tbody>\n",
       "</table>\n",
       "</div>"
      ],
      "text/plain": [
       "  Player name Position  Win  Loss  Earned run Average  Games played  \\\n",
       "0      N Ryan        P  324   292                3.19           807   \n",
       "1   R Johnson        P  303   166                3.29           618   \n",
       "2   R Clemens        P  354   184                3.12           709   \n",
       "3   S Carlton        P  329   244                3.22           741   \n",
       "4  B Blyleven        P  287   250                3.31           692   \n",
       "\n",
       "   Games Started  Complete Game  Shutout  Save Save Opportunity  \\\n",
       "0            773            222       61     3              4.0   \n",
       "1            603            100       37     2              3.0   \n",
       "2            707            118       46     0              0.0   \n",
       "3            709            254       55     2              2.0   \n",
       "4            685            242       60     0              0.0   \n",
       "\n",
       "   Innings pitched   hit  earned run  home run   Hit Batsmen  base on balls  \\\n",
       "0           5386.0  3923        1911       321           158         2795.0   \n",
       "1           4135.1  3346        1513       411           190         1497.0   \n",
       "2           4916.2  4185        1707       363           159         1580.0   \n",
       "3           5217.1  4672        1864       414            53         1833.0   \n",
       "4           4970.0  4632        1830       430           155         1322.0   \n",
       "\n",
       "   Strikeouts  WHIP    AVG  \n",
       "0        5714  1.25  0.204  \n",
       "1        4875  1.17  0.221  \n",
       "2        4672  1.17  0.229  \n",
       "3        4136  1.25   0.24  \n",
       "4        3701  1.20  0.248  "
      ]
     },
     "execution_count": 174,
     "metadata": {},
     "output_type": "execute_result"
    }
   ],
   "source": [
    "df = df.drop(df.columns[13],axis=1)\n",
    "df.head()"
   ]
  },
  {
   "cell_type": "markdown",
   "metadata": {},
   "source": [
    "**Rename** columns"
   ]
  },
  {
   "cell_type": "code",
   "execution_count": 175,
   "metadata": {},
   "outputs": [
    {
     "name": "stdout",
     "output_type": "stream",
     "text": [
      "<class 'pandas.core.frame.DataFrame'>\n",
      "RangeIndex: 2575 entries, 0 to 2574\n",
      "Data columns (total 20 columns):\n",
      " #   Column                Non-Null Count  Dtype  \n",
      "---  ------                --------------  -----  \n",
      " 0   Pitcher Name          2575 non-null   object \n",
      " 1   Position              2575 non-null   object \n",
      " 2   Win                   2575 non-null   int64  \n",
      " 3   Loss                  2575 non-null   int64  \n",
      " 4   Earned Run Average    2575 non-null   float64\n",
      " 5   Games Played          2575 non-null   int64  \n",
      " 6   Games Started         2575 non-null   int64  \n",
      " 7   Complete Games        2575 non-null   int64  \n",
      " 8   Shutout               2575 non-null   int64  \n",
      " 9   Save                  2575 non-null   int64  \n",
      " 10  Save Opportunity      1746 non-null   object \n",
      " 11  Innings Pitched (IP)  2575 non-null   float64\n",
      " 12  Hits                  2575 non-null   int64  \n",
      " 13  Earned Runs (ER)      2575 non-null   int64  \n",
      " 14  Home Runs (HR)        2575 non-null   int64  \n",
      " 15  Hit by Pitch (HBP)    2575 non-null   int64  \n",
      " 16  Base on Balls (BOB)   2565 non-null   float64\n",
      " 17  Strikeouts (SO)       2575 non-null   int64  \n",
      " 18  WHIP                  2575 non-null   float64\n",
      " 19  AVG                   2565 non-null   object \n",
      "dtypes: float64(4), int64(12), object(4)\n",
      "memory usage: 402.5+ KB\n"
     ]
    }
   ],
   "source": [
    "df_w = df.rename(columns={\n",
    "    'Player name':'Pitcher Name',\n",
    "    'Earned run Average': 'Earned Run Average',\n",
    "    'Games played' : 'Games Played',\n",
    "    'Complete Game':'Complete Games',\n",
    "    'hit':'Hits',\n",
    "    'earned run':'Earned Runs (ER)',\n",
    "    'home run':'Home Runs (HR) ',\n",
    "    'Innings pitched' : 'Innings Pitched (IP)',\n",
    "    ' Hit Batsmen':'Hit by Pitch (HBP)',\n",
    "    'base on balls':'Base on Balls (BOB)',\n",
    "    'Strikeouts':'Strikeouts (SO)',\n",
    "})\n",
    "df_w.info()\n",
    "df_m = df_w.copy()\n",
    "df_l = df_w.copy()"
   ]
  },
  {
   "cell_type": "markdown",
   "metadata": {},
   "source": [
    "# Data Cleaning - Droping NaN"
   ]
  },
  {
   "cell_type": "markdown",
   "metadata": {},
   "source": [
    "Determine the **count of NaN** (*Not a Number*) values"
   ]
  },
  {
   "cell_type": "code",
   "execution_count": 176,
   "metadata": {},
   "outputs": [
    {
     "data": {
      "text/plain": [
       "Pitcher Name              0\n",
       "Position                  0\n",
       "Win                       0\n",
       "Loss                      0\n",
       "Earned Run Average        0\n",
       "Games Played              0\n",
       "Games Started             0\n",
       "Complete Games            0\n",
       "Shutout                   0\n",
       "Save                      0\n",
       "Save Opportunity        829\n",
       "Innings Pitched (IP)      0\n",
       "Hits                      0\n",
       "Earned Runs (ER)          0\n",
       "Home Runs (HR)            0\n",
       "Hit by Pitch (HBP)        0\n",
       "Base on Balls (BOB)      10\n",
       "Strikeouts (SO)           0\n",
       "WHIP                      0\n",
       "AVG                      10\n",
       "dtype: int64"
      ]
     },
     "execution_count": 176,
     "metadata": {},
     "output_type": "execute_result"
    }
   ],
   "source": [
    "df_w.isna().sum()"
   ]
  },
  {
   "cell_type": "code",
   "execution_count": 177,
   "metadata": {},
   "outputs": [
    {
     "data": {
      "text/plain": [
       "Pitcher Name            0\n",
       "Position                0\n",
       "Win                     0\n",
       "Loss                    0\n",
       "Earned Run Average      0\n",
       "Games Played            0\n",
       "Games Started           0\n",
       "Complete Games          0\n",
       "Shutout                 0\n",
       "Save                    0\n",
       "Save Opportunity        0\n",
       "Innings Pitched (IP)    0\n",
       "Hits                    0\n",
       "Earned Runs (ER)        0\n",
       "Home Runs (HR)          0\n",
       "Hit by Pitch (HBP)      0\n",
       "Base on Balls (BOB)     0\n",
       "Strikeouts (SO)         0\n",
       "WHIP                    0\n",
       "AVG                     0\n",
       "dtype: int64"
      ]
     },
     "execution_count": 177,
     "metadata": {},
     "output_type": "execute_result"
    }
   ],
   "source": [
    "# Cleaning NAN values\n",
    "df_w = df_w.dropna(subset=['Save Opportunity'])\n",
    "df_w = df_w.dropna(subset=['Base on Balls (BOB)'])\n",
    "df_w = df_w.dropna(subset=['AVG'])\n",
    "df_w.isna().sum()"
   ]
  },
  {
   "cell_type": "code",
   "execution_count": 178,
   "metadata": {},
   "outputs": [
    {
     "name": "stdout",
     "output_type": "stream",
     "text": [
      "<class 'pandas.core.frame.DataFrame'>\n",
      "Index: 1746 entries, 0 to 2574\n",
      "Data columns (total 20 columns):\n",
      " #   Column                Non-Null Count  Dtype  \n",
      "---  ------                --------------  -----  \n",
      " 0   Pitcher Name          1746 non-null   object \n",
      " 1   Position              1746 non-null   object \n",
      " 2   Win                   1746 non-null   int64  \n",
      " 3   Loss                  1746 non-null   int64  \n",
      " 4   Earned Run Average    1746 non-null   float64\n",
      " 5   Games Played          1746 non-null   int64  \n",
      " 6   Games Started         1746 non-null   int64  \n",
      " 7   Complete Games        1746 non-null   int64  \n",
      " 8   Shutout               1746 non-null   int64  \n",
      " 9   Save                  1746 non-null   int64  \n",
      " 10  Save Opportunity      1746 non-null   object \n",
      " 11  Innings Pitched (IP)  1746 non-null   float64\n",
      " 12  Hits                  1746 non-null   int64  \n",
      " 13  Earned Runs (ER)      1746 non-null   int64  \n",
      " 14  Home Runs (HR)        1746 non-null   int64  \n",
      " 15  Hit by Pitch (HBP)    1746 non-null   int64  \n",
      " 16  Base on Balls (BOB)   1746 non-null   float64\n",
      " 17  Strikeouts (SO)       1746 non-null   int64  \n",
      " 18  WHIP                  1746 non-null   float64\n",
      " 19  AVG                   1746 non-null   object \n",
      "dtypes: float64(4), int64(12), object(4)\n",
      "memory usage: 286.5+ KB\n"
     ]
    }
   ],
   "source": [
    "df_w.info()"
   ]
  },
  {
   "cell_type": "markdown",
   "metadata": {},
   "source": [
    "# Data Cleaning - Replacing NaN with Mean"
   ]
  },
  {
   "cell_type": "markdown",
   "metadata": {},
   "source": [
    "Make a copy of **df_w**"
   ]
  },
  {
   "cell_type": "code",
   "execution_count": 179,
   "metadata": {},
   "outputs": [
    {
     "data": {
      "text/plain": [
       "Pitcher Name              0\n",
       "Position                  0\n",
       "Win                       0\n",
       "Loss                      0\n",
       "Earned Run Average        0\n",
       "Games Played              0\n",
       "Games Started             0\n",
       "Complete Games            0\n",
       "Shutout                   0\n",
       "Save                      0\n",
       "Save Opportunity        829\n",
       "Innings Pitched (IP)      0\n",
       "Hits                      0\n",
       "Earned Runs (ER)          0\n",
       "Home Runs (HR)            0\n",
       "Hit by Pitch (HBP)        0\n",
       "Base on Balls (BOB)      10\n",
       "Strikeouts (SO)           0\n",
       "WHIP                      0\n",
       "AVG                      10\n",
       "dtype: int64"
      ]
     },
     "execution_count": 179,
     "metadata": {},
     "output_type": "execute_result"
    }
   ],
   "source": [
    "df_m.isna().sum()"
   ]
  },
  {
   "cell_type": "code",
   "execution_count": 180,
   "metadata": {},
   "outputs": [
    {
     "name": "stdout",
     "output_type": "stream",
     "text": [
      "31.06414662084765\n"
     ]
    },
    {
     "name": "stderr",
     "output_type": "stream",
     "text": [
      "C:\\Users\\romme\\AppData\\Local\\Temp\\ipykernel_7780\\2451056367.py:4: FutureWarning: Downcasting object dtype arrays on .fillna, .ffill, .bfill is deprecated and will change in a future version. Call result.infer_objects(copy=False) instead. To opt-in to the future behavior, set `pd.set_option('future.no_silent_downcasting', True)`\n",
      "  df_m['Save Opportunity'] = df_m['Save Opportunity'].fillna(psize_mean)\n"
     ]
    }
   ],
   "source": [
    "# Cleaning Save Oppurtunity with mean\n",
    "psize_mean = df_m['Save Opportunity'].mean()\n",
    "print(psize_mean)\n",
    "df_m['Save Opportunity'] = df_m['Save Opportunity'].fillna(psize_mean)"
   ]
  },
  {
   "cell_type": "code",
   "execution_count": 181,
   "metadata": {},
   "outputs": [],
   "source": [
    "# Cleaning BOB\n",
    "df_m['Base on Balls (BOB)'] = df_m['Base on Balls (BOB)'].fillna(psize_mean)"
   ]
  },
  {
   "cell_type": "code",
   "execution_count": 182,
   "metadata": {},
   "outputs": [
    {
     "name": "stderr",
     "output_type": "stream",
     "text": [
      "C:\\Users\\romme\\AppData\\Local\\Temp\\ipykernel_7780\\269692247.py:2: FutureWarning: Downcasting object dtype arrays on .fillna, .ffill, .bfill is deprecated and will change in a future version. Call result.infer_objects(copy=False) instead. To opt-in to the future behavior, set `pd.set_option('future.no_silent_downcasting', True)`\n",
      "  df_m['AVG'] = df_m['AVG'].fillna(psize_mean)\n"
     ]
    }
   ],
   "source": [
    "# Cleaning AVG\n",
    "df_m['AVG'] = df_m['AVG'].fillna(psize_mean)"
   ]
  },
  {
   "cell_type": "code",
   "execution_count": 183,
   "metadata": {},
   "outputs": [
    {
     "data": {
      "text/plain": [
       "Pitcher Name            0\n",
       "Position                0\n",
       "Win                     0\n",
       "Loss                    0\n",
       "Earned Run Average      0\n",
       "Games Played            0\n",
       "Games Started           0\n",
       "Complete Games          0\n",
       "Shutout                 0\n",
       "Save                    0\n",
       "Save Opportunity        0\n",
       "Innings Pitched (IP)    0\n",
       "Hits                    0\n",
       "Earned Runs (ER)        0\n",
       "Home Runs (HR)          0\n",
       "Hit by Pitch (HBP)      0\n",
       "Base on Balls (BOB)     0\n",
       "Strikeouts (SO)         0\n",
       "WHIP                    0\n",
       "AVG                     0\n",
       "dtype: int64"
      ]
     },
     "execution_count": 183,
     "metadata": {},
     "output_type": "execute_result"
    }
   ],
   "source": [
    "df_m.isna().sum()"
   ]
  },
  {
   "cell_type": "markdown",
   "metadata": {},
   "source": [
    "# Lambda Function"
   ]
  },
  {
   "cell_type": "markdown",
   "metadata": {},
   "source": [
    "A **lambda function** in Python is a small, anonymous function defined using the **lambda** keyword. It is also known as an inline function or anonymous function because it doesn't require a formal name (unlike functions defined with def). Lambda functions are typically used for short, simple operations that can be written in a single line.<br><br>\n",
    "Syntax:<br>\n",
    "**lambda** arguments: expression<br>"
   ]
  },
  {
   "cell_type": "code",
   "execution_count": 184,
   "metadata": {},
   "outputs": [
    {
     "data": {
      "text/plain": [
       "[2, 4, 6, 8, 10]"
      ]
     },
     "execution_count": 184,
     "metadata": {},
     "output_type": "execute_result"
    }
   ],
   "source": [
    "numbers = [1,2,3,4,5,6,7,8,9,10]\n",
    "\n",
    "def even(n):\n",
    "    e = []\n",
    "    for i in n:\n",
    "        if i%2==0:\n",
    "            e.append(i)\n",
    "    return e\n",
    "\n",
    "even(numbers)"
   ]
  },
  {
   "cell_type": "code",
   "execution_count": 185,
   "metadata": {},
   "outputs": [
    {
     "data": {
      "text/plain": [
       "[2, 4, 6, 8, 10]"
      ]
     },
     "execution_count": 185,
     "metadata": {},
     "output_type": "execute_result"
    }
   ],
   "source": [
    "even = filter(lambda n:n%2==0, numbers)\n",
    "list(even)"
   ]
  },
  {
   "cell_type": "markdown",
   "metadata": {},
   "source": [
    "Use **lambda** function to replace NaN values with mean of each column"
   ]
  },
  {
   "cell_type": "code",
   "execution_count": 186,
   "metadata": {},
   "outputs": [
    {
     "data": {
      "text/plain": [
       "Pitcher Name              0\n",
       "Position                  0\n",
       "Win                       0\n",
       "Loss                      0\n",
       "Earned Run Average        0\n",
       "Games Played              0\n",
       "Games Started             0\n",
       "Complete Games            0\n",
       "Shutout                   0\n",
       "Save                      0\n",
       "Save Opportunity        829\n",
       "Innings Pitched (IP)      0\n",
       "Hits                      0\n",
       "Earned Runs (ER)          0\n",
       "Home Runs (HR)            0\n",
       "Hit by Pitch (HBP)        0\n",
       "Base on Balls (BOB)      10\n",
       "Strikeouts (SO)           0\n",
       "WHIP                      0\n",
       "AVG                      10\n",
       "dtype: int64"
      ]
     },
     "execution_count": 186,
     "metadata": {},
     "output_type": "execute_result"
    }
   ],
   "source": [
    "df_l.isna().sum()"
   ]
  },
  {
   "cell_type": "code",
   "execution_count": 187,
   "metadata": {},
   "outputs": [
    {
     "name": "stderr",
     "output_type": "stream",
     "text": [
      "C:\\Users\\romme\\AppData\\Local\\Temp\\ipykernel_7780\\3947704624.py:2: FutureWarning: Downcasting object dtype arrays on .fillna, .ffill, .bfill is deprecated and will change in a future version. Call result.infer_objects(copy=False) instead. To opt-in to the future behavior, set `pd.set_option('future.no_silent_downcasting', True)`\n",
      "  df_l[n_clumns] = df_l[n_clumns].apply(lambda n:n.fillna(n.mean()))\n"
     ]
    },
    {
     "data": {
      "text/plain": [
       "Pitcher Name            0\n",
       "Position                0\n",
       "Win                     0\n",
       "Loss                    0\n",
       "Earned Run Average      0\n",
       "Games Played            0\n",
       "Games Started           0\n",
       "Complete Games          0\n",
       "Shutout                 0\n",
       "Save                    0\n",
       "Save Opportunity        0\n",
       "Innings Pitched (IP)    0\n",
       "Hits                    0\n",
       "Earned Runs (ER)        0\n",
       "Home Runs (HR)          0\n",
       "Hit by Pitch (HBP)      0\n",
       "Base on Balls (BOB)     0\n",
       "Strikeouts (SO)         0\n",
       "WHIP                    0\n",
       "AVG                     0\n",
       "dtype: int64"
      ]
     },
     "execution_count": 187,
     "metadata": {},
     "output_type": "execute_result"
    }
   ],
   "source": [
    "n_clumns = ['Save Opportunity','Base on Balls (BOB)','AVG']\n",
    "df_l[n_clumns] = df_l[n_clumns].apply(lambda n:n.fillna(n.mean()))\n",
    "df_l.isna().sum()"
   ]
  },
  {
   "cell_type": "code",
   "execution_count": 188,
   "metadata": {},
   "outputs": [
    {
     "name": "stdout",
     "output_type": "stream",
     "text": [
      "<class 'pandas.core.frame.DataFrame'>\n",
      "RangeIndex: 2575 entries, 0 to 2574\n",
      "Data columns (total 20 columns):\n",
      " #   Column                Non-Null Count  Dtype  \n",
      "---  ------                --------------  -----  \n",
      " 0   Pitcher Name          2575 non-null   object \n",
      " 1   Position              2575 non-null   object \n",
      " 2   Win                   2575 non-null   int64  \n",
      " 3   Loss                  2575 non-null   int64  \n",
      " 4   Earned Run Average    2575 non-null   float64\n",
      " 5   Games Played          2575 non-null   int64  \n",
      " 6   Games Started         2575 non-null   int64  \n",
      " 7   Complete Games        2575 non-null   int64  \n",
      " 8   Shutout               2575 non-null   int64  \n",
      " 9   Save                  2575 non-null   int64  \n",
      " 10  Save Opportunity      2575 non-null   float64\n",
      " 11  Innings Pitched (IP)  2575 non-null   float64\n",
      " 12  Hits                  2575 non-null   int64  \n",
      " 13  Earned Runs (ER)      2575 non-null   int64  \n",
      " 14  Home Runs (HR)        2575 non-null   int64  \n",
      " 15  Hit by Pitch (HBP)    2575 non-null   int64  \n",
      " 16  Base on Balls (BOB)   2575 non-null   float64\n",
      " 17  Strikeouts (SO)       2575 non-null   int64  \n",
      " 18  WHIP                  2575 non-null   float64\n",
      " 19  AVG                   2575 non-null   float64\n",
      "dtypes: float64(6), int64(12), object(2)\n",
      "memory usage: 402.5+ KB\n"
     ]
    }
   ],
   "source": [
    "df_l.info()"
   ]
  },
  {
   "cell_type": "markdown",
   "metadata": {},
   "source": [
    "# **Saving** the Cleaned Dataset"
   ]
  },
  {
   "cell_type": "code",
   "execution_count": 189,
   "metadata": {},
   "outputs": [],
   "source": [
    "df_m.to_csv(r\"C:\\Users\\romme\\Desktop\\MATHEDA Bito-on\\ENDTERM PROJECT\\cleaned\\baseball_pitcher-cleaned.csv\",index=False)"
   ]
  }
 ],
 "metadata": {
  "kernelspec": {
   "display_name": "Python 3",
   "language": "python",
   "name": "python3"
  },
  "language_info": {
   "codemirror_mode": {
    "name": "ipython",
    "version": 3
   },
   "file_extension": ".py",
   "mimetype": "text/x-python",
   "name": "python",
   "nbconvert_exporter": "python",
   "pygments_lexer": "ipython3",
   "version": "3.13.1"
  }
 },
 "nbformat": 4,
 "nbformat_minor": 2
}
